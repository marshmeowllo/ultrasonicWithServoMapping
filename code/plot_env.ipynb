{
 "cells": [
  {
   "cell_type": "code",
   "execution_count": 1,
   "id": "7dc150ef-5bed-486f-b0e0-ac83043cb387",
   "metadata": {},
   "outputs": [],
   "source": [
    "import matplotlib.pyplot as plt\n",
    "import numpy as np\n",
    "import pandas as pd\n",
    "import ast\n"
   ]
  },
  {
   "cell_type": "code",
   "execution_count": 2,
   "id": "5085a2a5-3ef8-416f-a1ba-3318d384efb8",
   "metadata": {},
   "outputs": [
    {
     "name": "stdout",
     "output_type": "stream",
     "text": [
      "<class 'dict'>\n"
     ]
    }
   ],
   "source": [
    "#convert txt file to dict data type\n",
    "with open (\"sample_data1r.txt\", \"r\") as file:\n",
    "    data = file.read().replace('\\n', '')\n",
    "data = ast.literal_eval(data)\n",
    "print(type(data))"
   ]
  },
  {
   "cell_type": "code",
   "execution_count": 3,
   "id": "ab467fba-0c29-4224-9d65-2583d2516ca4",
   "metadata": {},
   "outputs": [],
   "source": [
    "df = pd.DataFrame.from_dict(data) "
   ]
  },
  {
   "cell_type": "code",
   "execution_count": 4,
   "id": "8af30765-34bc-4488-b719-3b79fbe4a58b",
   "metadata": {},
   "outputs": [
    {
     "data": {
      "text/html": [
       "<div>\n",
       "<style scoped>\n",
       "    .dataframe tbody tr th:only-of-type {\n",
       "        vertical-align: middle;\n",
       "    }\n",
       "\n",
       "    .dataframe tbody tr th {\n",
       "        vertical-align: top;\n",
       "    }\n",
       "\n",
       "    .dataframe thead th {\n",
       "        text-align: right;\n",
       "    }\n",
       "</style>\n",
       "<table border=\"1\" class=\"dataframe\">\n",
       "  <thead>\n",
       "    <tr style=\"text-align: right;\">\n",
       "      <th></th>\n",
       "      <th>distance</th>\n",
       "      <th>radius</th>\n",
       "    </tr>\n",
       "  </thead>\n",
       "  <tbody>\n",
       "    <tr>\n",
       "      <th>0</th>\n",
       "      <td>5.96220</td>\n",
       "      <td>0</td>\n",
       "    </tr>\n",
       "    <tr>\n",
       "      <th>1</th>\n",
       "      <td>5.94502</td>\n",
       "      <td>1</td>\n",
       "    </tr>\n",
       "    <tr>\n",
       "      <th>2</th>\n",
       "      <td>5.96220</td>\n",
       "      <td>2</td>\n",
       "    </tr>\n",
       "    <tr>\n",
       "      <th>3</th>\n",
       "      <td>5.94502</td>\n",
       "      <td>3</td>\n",
       "    </tr>\n",
       "    <tr>\n",
       "      <th>4</th>\n",
       "      <td>5.96220</td>\n",
       "      <td>4</td>\n",
       "    </tr>\n",
       "    <tr>\n",
       "      <th>...</th>\n",
       "      <td>...</td>\n",
       "      <td>...</td>\n",
       "    </tr>\n",
       "    <tr>\n",
       "      <th>176</th>\n",
       "      <td>8.93471</td>\n",
       "      <td>176</td>\n",
       "    </tr>\n",
       "    <tr>\n",
       "      <th>177</th>\n",
       "      <td>8.91753</td>\n",
       "      <td>177</td>\n",
       "    </tr>\n",
       "    <tr>\n",
       "      <th>178</th>\n",
       "      <td>8.04124</td>\n",
       "      <td>178</td>\n",
       "    </tr>\n",
       "    <tr>\n",
       "      <th>179</th>\n",
       "      <td>8.05842</td>\n",
       "      <td>179</td>\n",
       "    </tr>\n",
       "    <tr>\n",
       "      <th>180</th>\n",
       "      <td>8.04124</td>\n",
       "      <td>180</td>\n",
       "    </tr>\n",
       "  </tbody>\n",
       "</table>\n",
       "<p>181 rows × 2 columns</p>\n",
       "</div>"
      ],
      "text/plain": [
       "     distance  radius\n",
       "0     5.96220       0\n",
       "1     5.94502       1\n",
       "2     5.96220       2\n",
       "3     5.94502       3\n",
       "4     5.96220       4\n",
       "..        ...     ...\n",
       "176   8.93471     176\n",
       "177   8.91753     177\n",
       "178   8.04124     178\n",
       "179   8.05842     179\n",
       "180   8.04124     180\n",
       "\n",
       "[181 rows x 2 columns]"
      ]
     },
     "execution_count": 4,
     "metadata": {},
     "output_type": "execute_result"
    }
   ],
   "source": [
    "df"
   ]
  },
  {
   "cell_type": "markdown",
   "id": "78979d01-9bcf-4752-8a97-8e7c939e4274",
   "metadata": {
    "tags": []
   },
   "source": [
    "# Math\n",
    "give d is distance and $ \\theta $ is radius\n",
    "<br>\n",
    "$ axis{_x} = rcos \\theta $\n",
    "\\\n",
    "$ axis{_y} = rsin \\theta $"
   ]
  },
  {
   "cell_type": "code",
   "execution_count": 5,
   "id": "850da78d-8816-4279-b94a-2dd4eb63c7fb",
   "metadata": {},
   "outputs": [],
   "source": [
    "#in numpy we use radius in sin/cos function\n",
    "x = df[\"distance\"] * np.cos(np.deg2rad(df[\"radius\"]))\n",
    "y = df[\"distance\"] * np.sin(np.deg2rad(df[\"radius\"]))"
   ]
  },
  {
   "cell_type": "code",
   "execution_count": 6,
   "id": "cfed68dd-2955-4271-8892-41893211efb2",
   "metadata": {},
   "outputs": [],
   "source": [
    "#store data in a new DataFrame variable on the other hand you can plot with matplotlib without create new DataFrame variable\n",
    "plotData = pd.DataFrame(columns=[\"x\", \"y\"]) \n",
    "plotData[\"x\"] = x\n",
    "plotData[\"y\"] = y"
   ]
  },
  {
   "cell_type": "markdown",
   "id": "35b80667-bb8a-476a-9e59-dca1c6b5e7f8",
   "metadata": {},
   "source": [
    "# Result"
   ]
  },
  {
   "cell_type": "code",
   "execution_count": 7,
   "id": "024758ce-5de2-4dd3-a750-14e5d740c91f",
   "metadata": {},
   "outputs": [
    {
     "data": {
      "text/plain": [
       "<AxesSubplot:xlabel='x', ylabel='y'>"
      ]
     },
     "execution_count": 7,
     "metadata": {},
     "output_type": "execute_result"
    },
    {
     "data": {
      "image/png": "[encoded data removed]",
      "text/plain": [
       "<Figure size 432x288 with 1 Axes>"
      ]
     },
     "metadata": {
      "needs_background": "light"
     },
     "output_type": "display_data"
    }
   ],
   "source": [
    "plotData.plot.scatter(x=\"x\", y=\"y\")"
   ]
  },
  {
   "cell_type": "code",
   "execution_count": null,
   "id": "4bff8932-6449-4aa5-9a4b-10f0b2b193d2",
   "metadata": {},
   "outputs": [],
   "source": []
  }
 ],
 "metadata": {
  "kernelspec": {
   "display_name": "Python 3 (ipykernel)",
   "language": "python",
   "name": "python3"
  },
  "language_info": {
   "codemirror_mode": {
    "name": "ipython",
    "version": 3
   },
   "file_extension": ".py",
   "mimetype": "text/x-python",
   "name": "python",
   "nbconvert_exporter": "python",
   "pygments_lexer": "ipython3",
   "version": "3.7.11"
  }
 },
 "nbformat": 4,
 "nbformat_minor": 5
}
